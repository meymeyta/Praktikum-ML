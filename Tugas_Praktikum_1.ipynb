{
  "nbformat": 4,
  "nbformat_minor": 0,
  "metadata": {
    "colab": {
      "provenance": []
    },
    "kernelspec": {
      "name": "python3",
      "display_name": "Python 3"
    },
    "language_info": {
      "name": "python"
    }
  },
  "cells": [
    {
      "cell_type": "markdown",
      "source": [
        "# Tugas Praktikum #1\n",
        "\n",
        "Meyta Rizki Khairunisa\n",
        "\n",
        "24060122130085\n",
        "\n",
        "Lab C1 Machine Learning"
      ],
      "metadata": {
        "id": "AmsUrKK1kC2l"
      }
    },
    {
      "cell_type": "markdown",
      "source": [
        "  2. Buatlah evaluasi algoritma dengan dataset yang telah dicoba pada tugas praktikum sebelumnya! (dengan menggunakan 3 model yaitu KNN, NB, dan SVM)"
      ],
      "metadata": {
        "id": "YdvotosFkOfY"
      }
    },
    {
      "cell_type": "code",
      "execution_count": 2,
      "metadata": {
        "id": "-juY9gGfTiuX"
      },
      "outputs": [],
      "source": [
        "import pandas\n",
        "import matplotlib.pyplot as plt\n",
        "from pandas.plotting import scatter_matrix\n",
        "import seaborn as sns\n",
        "import numpy as np\n",
        "from sklearn import model_selection\n",
        "from sklearn.neighbors import KNeighborsClassifier\n",
        "from sklearn.naive_bayes import GaussianNB\n",
        "from sklearn.svm import SVC\n",
        "from sklearn.metrics import classification_report\n",
        "from sklearn.metrics import confusion_matrix\n",
        "from sklearn.metrics import accuracy_score"
      ]
    },
    {
      "cell_type": "markdown",
      "source": [
        "Code diatas merupakan beberapa daftar pustaka yang diperlukan untuk melakukan analisis data dan visualisasi pada Machine Learning"
      ],
      "metadata": {
        "id": "2HZHVa88q7id"
      }
    },
    {
      "cell_type": "code",
      "source": [
        "url = \"http://archive.ics.uci.edu/ml/machine-learning-databases/iris/iris.data\"\n",
        "names = ['sepal-length', 'sepal-width', 'petal-length','petal-width', 'class']\n",
        "dataset = pandas.read_csv(url, names=names)"
      ],
      "metadata": {
        "id": "hfpsppffUBTr"
      },
      "execution_count": 3,
      "outputs": []
    },
    {
      "cell_type": "code",
      "source": [
        "url = \"http://archive.ics.uci.edu/ml/machine-learning-databases/iris/iris.data\"\n",
        "dataset = pandas.read_csv(url, header=None)"
      ],
      "metadata": {
        "id": "1lrtoinCUR4R"
      },
      "execution_count": 4,
      "outputs": []
    },
    {
      "cell_type": "markdown",
      "source": [
        "Code diatas digunakan untuk memuat dataset yang langsung diambil dari alamat repository UCI Machine Learning. Pada code URL pertama diberikan daftar untuk memberikan nama kolom pada dataset, seperti sepal-length, sepal width, petal-length, dan yang lainnya. Sedangkan pada code URL kedua menunjukan bahwa dataset tidak diberikan nama sehingga kolom akan otomatis diberi nama 0, 1, 2, 3, ..."
      ],
      "metadata": {
        "id": "E7CaMWOZs9rS"
      }
    },
    {
      "cell_type": "code",
      "source": [
        "print(dataset.iloc[50:70])"
      ],
      "metadata": {
        "colab": {
          "base_uri": "https://localhost:8080/"
        },
        "id": "bo6TynPmUWVj",
        "outputId": "3f29d101-8236-4716-d6eb-b7e691d43658"
      },
      "execution_count": 13,
      "outputs": [
        {
          "output_type": "stream",
          "name": "stdout",
          "text": [
            "      0    1    2    3                4\n",
            "50  7.0  3.2  4.7  1.4  Iris-versicolor\n",
            "51  6.4  3.2  4.5  1.5  Iris-versicolor\n",
            "52  6.9  3.1  4.9  1.5  Iris-versicolor\n",
            "53  5.5  2.3  4.0  1.3  Iris-versicolor\n",
            "54  6.5  2.8  4.6  1.5  Iris-versicolor\n",
            "55  5.7  2.8  4.5  1.3  Iris-versicolor\n",
            "56  6.3  3.3  4.7  1.6  Iris-versicolor\n",
            "57  4.9  2.4  3.3  1.0  Iris-versicolor\n",
            "58  6.6  2.9  4.6  1.3  Iris-versicolor\n",
            "59  5.2  2.7  3.9  1.4  Iris-versicolor\n",
            "60  5.0  2.0  3.5  1.0  Iris-versicolor\n",
            "61  5.9  3.0  4.2  1.5  Iris-versicolor\n",
            "62  6.0  2.2  4.0  1.0  Iris-versicolor\n",
            "63  6.1  2.9  4.7  1.4  Iris-versicolor\n",
            "64  5.6  2.9  3.6  1.3  Iris-versicolor\n",
            "65  6.7  3.1  4.4  1.4  Iris-versicolor\n",
            "66  5.6  3.0  4.5  1.5  Iris-versicolor\n",
            "67  5.8  2.7  4.1  1.0  Iris-versicolor\n",
            "68  6.2  2.2  4.5  1.5  Iris-versicolor\n",
            "69  5.6  2.5  3.9  1.1  Iris-versicolor\n"
          ]
        }
      ]
    },
    {
      "cell_type": "markdown",
      "source": [
        "Code diatas merupakan perintah untuk melihat baris dataset yang ke 50 sampai 70"
      ],
      "metadata": {
        "id": "WefgDiVvucXq"
      }
    },
    {
      "cell_type": "code",
      "source": [
        "print(dataset.describe())"
      ],
      "metadata": {
        "colab": {
          "base_uri": "https://localhost:8080/"
        },
        "id": "Ht4pGPeMi88m",
        "outputId": "2ef1a0bc-c7de-4748-a5a2-4fa09d68768d"
      },
      "execution_count": 6,
      "outputs": [
        {
          "output_type": "stream",
          "name": "stdout",
          "text": [
            "                0           1           2           3\n",
            "count  150.000000  150.000000  150.000000  150.000000\n",
            "mean     5.843333    3.054000    3.758667    1.198667\n",
            "std      0.828066    0.433594    1.764420    0.763161\n",
            "min      4.300000    2.000000    1.000000    0.100000\n",
            "25%      5.100000    2.800000    1.600000    0.300000\n",
            "50%      5.800000    3.000000    4.350000    1.300000\n",
            "75%      6.400000    3.300000    5.100000    1.800000\n",
            "max      7.900000    4.400000    6.900000    2.500000\n"
          ]
        }
      ]
    },
    {
      "cell_type": "markdown",
      "source": [
        "Code diatas merupakan perintah untuk mendeskripsikan statistik data meliput count, mean, standard deviasi, nilai min, nilai max, dan quartile"
      ],
      "metadata": {
        "id": "ucT2Fwoiuunh"
      }
    },
    {
      "cell_type": "markdown",
      "source": [
        "# Membuat validasi dataset"
      ],
      "metadata": {
        "id": "llXRX27VjSdL"
      }
    },
    {
      "cell_type": "code",
      "source": [
        "#Split-out validation dataset\n",
        "array = dataset.values\n",
        "X = array[:,0:4]\n",
        "Y = array[:,4]\n",
        "validation_size = 0.20\n",
        "seed = 7\n",
        "X_train, X_validation, Y_train, Y_validation = model_selection.train_test_split(X, Y, test_size=validation_size,random_state=seed)"
      ],
      "metadata": {
        "id": "Saq37e3ojVT_"
      },
      "execution_count": 7,
      "outputs": []
    },
    {
      "cell_type": "markdown",
      "source": [
        "Validasi dataset digunakan untuk mengetahui bahwa model yang dibuat itu sudah tepat. Validasi ini akan menggunakan metode statistik untuk memperkirakan keakuratan model yang dibuat pada data yang tidak terlihat. Pada dataset ini akan terbagi menjadi 2, yaitu 80% akan digunakan untuk training model dan 20% akan digunakan untuk data validasi"
      ],
      "metadata": {
        "id": "cUBA_zx8u_tv"
      }
    },
    {
      "cell_type": "markdown",
      "source": [
        "Penjelasan code:\n",
        "\n",
        "* *dataset.values* = digunakan untuk mengambil\n",
        "semua nilai dalam dataset, kemudian dari dataset akan diambil semua baris dari kolom 0 - 3 untuk diinisialisasikan ke X dan semua baris pada kolom 4 untuk diinisialisasikan ke Y\n",
        "* *validation_size = 0.20* = menggunakan 20% untuk validasi dan sisanya untuk training model\n",
        "* *seed = 7* = digunakan untuk memastikan konsistensi pembagian data\n",
        "* Selanjutnya pada bagian bawah dijelaskan fungsi untuk membagi dataset pada X dan Y pada data mana yang akan dilatih dan data mana yang akan divalidasi"
      ],
      "metadata": {
        "id": "W2AmkOo2xYjS"
      }
    },
    {
      "cell_type": "markdown",
      "source": [
        "# K-Folds Cross Validation"
      ],
      "metadata": {
        "id": "cnuN72U6jZ0Q"
      }
    },
    {
      "cell_type": "code",
      "source": [
        "# Test options and evaluation matric\n",
        "seed = 7\n",
        "scoring = 'accuracy'"
      ],
      "metadata": {
        "id": "Qfxbb9JdjdSP"
      },
      "execution_count": 8,
      "outputs": []
    },
    {
      "cell_type": "markdown",
      "source": [
        "Dilakukan validasi silang sebanyak 10 kali lipat untuk memperkirakan akurasi. Berdasarkan code diatas, maka dilakukan pembagian dataset menjadi 10 bagian, 9 untuk latihan dan 1 untuk pengujian dan ulangi untuk semua kombinasi."
      ],
      "metadata": {
        "id": "2dB589wbBvCh"
      }
    },
    {
      "cell_type": "markdown",
      "source": [
        "# Membangun Model"
      ],
      "metadata": {
        "id": "9rWPnITPjgkY"
      }
    },
    {
      "cell_type": "code",
      "source": [
        "#Spot Check Algoritma\n",
        "models = []\n",
        "models.append(('KNN', KNeighborsClassifier()))\n",
        "models.append(('NB', GaussianNB()))\n",
        "models.append(('SVM', SVC()))"
      ],
      "metadata": {
        "id": "ZYtukQWFjiEo"
      },
      "execution_count": 9,
      "outputs": []
    },
    {
      "cell_type": "markdown",
      "source": [
        "Code diatas merupakan proses awal untuk menguji beberapa model Machine Learning secara cepat dan menentukan algoritma mana yang memiliki performa terbaik untuk dataset tertentu"
      ],
      "metadata": {
        "id": "LlpjcpYfHUz4"
      }
    },
    {
      "cell_type": "code",
      "source": [
        "#evaluate each model in turn\n",
        "results = []\n",
        "names = []\n",
        "for name, model in models:\n",
        "  kfold = model_selection.KFold(n_splits=10, random_state=seed, shuffle=True)\n",
        "  cv_results=model_selection.cross_val_score(model, X_train, Y_train, cv=kfold, scoring=scoring)\n",
        "  results.append(cv_results)\n",
        "  names.append(name)\n",
        "  msg = \"%s: %f (%f)\" % (name,cv_results.mean(), cv_results.std())\n",
        "  print(msg)"
      ],
      "metadata": {
        "colab": {
          "base_uri": "https://localhost:8080/"
        },
        "id": "wBEselD8jk9E",
        "outputId": "da0b07d2-5d21-46e5-fe6a-fe66c90f04f7"
      },
      "execution_count": 10,
      "outputs": [
        {
          "output_type": "stream",
          "name": "stdout",
          "text": [
            "KNN: 0.983333 (0.033333)\n",
            "NB: 0.966667 (0.040825)\n",
            "SVM: 0.983333 (0.033333)\n"
          ]
        }
      ]
    },
    {
      "cell_type": "markdown",
      "source": [
        "Code diatas digunakan untuk mengimplementasikan evaluasi model menggunakan cross validation. Pada code dilakukan pembagian menjadi 10 yang kemudian di uji secara bergantian. Tujuan dilakukannya adalah untuk membandingkan rata-rata akurasi dan kestabilan performa dan untuk memilih model terbaik dengan rata-rata akurasi tinggi.\n",
        "\n",
        "Didapatkanlah hasil KNN dengan rata-rata akurasi 96.67% dengan standar deviasi 4.08%, kemudian NB dengan rata-rata 95% dengan standar deviasi 5%, dan SVM denganrata-rata 96.67% dengan standar deviasi 4.08%"
      ],
      "metadata": {
        "id": "fXY5j7NUITCT"
      }
    },
    {
      "cell_type": "markdown",
      "source": [
        "# Memilih Model terbaik"
      ],
      "metadata": {
        "id": "MBlQFxkijoWF"
      }
    },
    {
      "cell_type": "code",
      "source": [
        "# Make prediction on validation dataset\n",
        "svm = SVC()\n",
        "svm.fit(X_train, Y_train)\n",
        "predictions = svm.predict(X_validation)\n",
        "print(accuracy_score(Y_validation, predictions))\n",
        "print(confusion_matrix(Y_validation, predictions))\n",
        "cm = confusion_matrix(Y_validation, predictions)\n",
        "print(cm)\n",
        "print(classification_report(Y_validation, predictions))"
      ],
      "metadata": {
        "colab": {
          "base_uri": "https://localhost:8080/"
        },
        "id": "YpiTNPWSjrJz",
        "outputId": "4c4fe751-10fc-49a2-c160-80d35d7b2294"
      },
      "execution_count": 11,
      "outputs": [
        {
          "output_type": "stream",
          "name": "stdout",
          "text": [
            "0.8666666666666667\n",
            "[[ 7  0  0]\n",
            " [ 0 10  2]\n",
            " [ 0  2  9]]\n",
            "[[ 7  0  0]\n",
            " [ 0 10  2]\n",
            " [ 0  2  9]]\n",
            "                 precision    recall  f1-score   support\n",
            "\n",
            "    Iris-setosa       1.00      1.00      1.00         7\n",
            "Iris-versicolor       0.83      0.83      0.83        12\n",
            " Iris-virginica       0.82      0.82      0.82        11\n",
            "\n",
            "       accuracy                           0.87        30\n",
            "      macro avg       0.88      0.88      0.88        30\n",
            "   weighted avg       0.87      0.87      0.87        30\n",
            "\n"
          ]
        }
      ]
    },
    {
      "cell_type": "markdown",
      "source": [
        "Code diatas digunakan untuk melatih model SVM menggunakan data training, memprediksi data validasi, dan mengevaluasi performa model berdasarkan metrik tertentu.\n",
        "\n",
        "Di awal akan dihitung akurasi hasilnya, dan akurasi model sebesar 86.67% menunjukkan bahwa model SVM bekerja cukuo baik, kemudian didapat juga hasil confusion matrix serta laporan klasifikasi hasil recall, precision, dan f1-score. Kemudian diolah lagi data tersebut untuk menemukan hasil accuracy, macro avg, dan weighted avg"
      ],
      "metadata": {
        "id": "D3ga6hsGLt-G"
      }
    },
    {
      "cell_type": "markdown",
      "source": [],
      "metadata": {
        "id": "sShw2u04LN5b"
      }
    },
    {
      "cell_type": "code",
      "source": [
        "#create a pandas dataframe from the confusion matrix\n",
        "classes = np.unique(Y_train)\n",
        "cm_df = pandas.DataFrame(cm, index=classes, columns=classes)\n",
        "\n",
        "#Visualize the confusion matrix using Seaborn\n",
        "plt.figure(figsize=(4,3))\n",
        "sns.heatmap(cm, annot=True, fmt=\"d\", cmap=\"Blues\")\n",
        "plt.title(\"Confusion Matrix\")\n",
        "plt.ylabel(\"Actual Values\")\n",
        "plt.xlabel(\"Predicted Values\")\n",
        "plt.show()"
      ],
      "metadata": {
        "colab": {
          "base_uri": "https://localhost:8080/",
          "height": 333
        },
        "id": "3VpOLdWljvN-",
        "outputId": "4bd8f397-2878-4ea5-9ca5-1192570fb50e"
      },
      "execution_count": 12,
      "outputs": [
        {
          "output_type": "display_data",
          "data": {
            "text/plain": [
              "<Figure size 400x300 with 2 Axes>"
            ],
            "image/png": "[encoded data removed]"
          },
          "metadata": {}
        }
      ]
    },
    {
      "cell_type": "markdown",
      "source": [
        "Code diatas merupakan implementasi bagaimana cara memvisualisasi hasil dari confusion matrix"
      ],
      "metadata": {
        "id": "6ft7GY4SO9_z"
      }
    }
  ]
}